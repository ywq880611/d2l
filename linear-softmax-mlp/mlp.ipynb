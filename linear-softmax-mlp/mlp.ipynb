{
 "cells": [
  {
   "cell_type": "markdown",
   "id": "ea00118d-1d5e-426d-9ad0-e8e2e88e1c41",
   "metadata": {},
   "source": [
    "### MLP based on pytorch lib"
   ]
  },
  {
   "cell_type": "code",
   "execution_count": 29,
   "id": "1762b37c-aab7-4269-8043-2933d5a167a9",
   "metadata": {},
   "outputs": [],
   "source": [
    "import torch\n",
    "from torch import nn\n",
    "from d2l import torch as d2l"
   ]
  },
  {
   "cell_type": "code",
   "execution_count": 30,
   "id": "1eed6175-a8c6-40eb-a2ef-d88a682dc6e1",
   "metadata": {},
   "outputs": [],
   "source": [
    "batch_size = 256\n",
    "train_iter, test_iter = d2l.load_data_fashion_mnist(batch_size)"
   ]
  },
  {
   "cell_type": "code",
   "execution_count": 31,
   "id": "f4706756-337a-4801-9222-5b5eed5dc723",
   "metadata": {},
   "outputs": [
    {
     "name": "stdout",
     "output_type": "stream",
     "text": [
      "tensor([[[[0.0000, 0.0000, 0.0000,  ..., 0.0000, 0.0000, 0.0000],\n",
      "          [0.0000, 0.0000, 0.0000,  ..., 0.0000, 0.0000, 0.0000],\n",
      "          [0.0000, 0.0000, 0.0000,  ..., 0.0000, 0.0000, 0.0000],\n",
      "          ...,\n",
      "          [0.0000, 0.0000, 0.0000,  ..., 0.0000, 0.0000, 0.0000],\n",
      "          [0.0000, 0.0000, 0.0000,  ..., 0.0000, 0.0000, 0.0000],\n",
      "          [0.0000, 0.0000, 0.0000,  ..., 0.0000, 0.0000, 0.0000]]],\n",
      "\n",
      "\n",
      "        [[[0.0000, 0.0000, 0.0000,  ..., 0.0000, 0.0000, 0.0000],\n",
      "          [0.0000, 0.0000, 0.0000,  ..., 0.0000, 0.0000, 0.0000],\n",
      "          [0.0000, 0.0000, 0.0039,  ..., 0.0039, 0.0000, 0.0000],\n",
      "          ...,\n",
      "          [0.0000, 0.0000, 0.0000,  ..., 0.0000, 0.0000, 0.0000],\n",
      "          [0.0000, 0.0000, 0.0000,  ..., 0.0000, 0.0000, 0.0000],\n",
      "          [0.0000, 0.0000, 0.0000,  ..., 0.0000, 0.0000, 0.0000]]],\n",
      "\n",
      "\n",
      "        [[[0.0000, 0.0000, 0.0000,  ..., 0.0000, 0.0000, 0.0000],\n",
      "          [0.0000, 0.0000, 0.0000,  ..., 0.0000, 0.0000, 0.0000],\n",
      "          [0.0000, 0.0000, 0.0000,  ..., 0.0000, 0.0000, 0.0000],\n",
      "          ...,\n",
      "          [0.0000, 0.0000, 0.0000,  ..., 0.0000, 0.0000, 0.0000],\n",
      "          [0.0000, 0.0000, 0.0000,  ..., 0.0000, 0.0000, 0.0000],\n",
      "          [0.0000, 0.0000, 0.0000,  ..., 0.0000, 0.0000, 0.0000]]],\n",
      "\n",
      "\n",
      "        ...,\n",
      "\n",
      "\n",
      "        [[[0.0000, 0.0000, 0.0000,  ..., 0.0000, 0.0000, 0.0000],\n",
      "          [0.0000, 0.0000, 0.0000,  ..., 0.0000, 0.0000, 0.0000],\n",
      "          [0.0000, 0.0000, 0.0000,  ..., 0.0000, 0.0000, 0.0000],\n",
      "          ...,\n",
      "          [0.0000, 0.0000, 0.0000,  ..., 0.0000, 0.0000, 0.0000],\n",
      "          [0.0000, 0.0000, 0.0000,  ..., 0.0000, 0.0000, 0.0000],\n",
      "          [0.0000, 0.0000, 0.0000,  ..., 0.0000, 0.0000, 0.0000]]],\n",
      "\n",
      "\n",
      "        [[[0.0000, 0.0000, 0.0000,  ..., 0.0000, 0.0000, 0.0000],\n",
      "          [0.0000, 0.0000, 0.0000,  ..., 0.0000, 0.0000, 0.0000],\n",
      "          [0.0000, 0.0000, 0.0000,  ..., 0.0000, 0.0000, 0.0000],\n",
      "          ...,\n",
      "          [0.0000, 0.0000, 0.0000,  ..., 0.0000, 0.0000, 0.0000],\n",
      "          [0.0000, 0.0000, 0.0000,  ..., 0.0000, 0.0000, 0.0000],\n",
      "          [0.0000, 0.0000, 0.0000,  ..., 0.0000, 0.0000, 0.0000]]],\n",
      "\n",
      "\n",
      "        [[[0.0000, 0.0000, 0.0000,  ..., 0.0000, 0.0000, 0.0000],\n",
      "          [0.0000, 0.0000, 0.0000,  ..., 0.0000, 0.0000, 0.0000],\n",
      "          [0.0000, 0.0000, 0.0000,  ..., 0.0000, 0.0000, 0.0000],\n",
      "          ...,\n",
      "          [0.0000, 0.0000, 0.0000,  ..., 0.0000, 0.0000, 0.0000],\n",
      "          [0.0000, 0.0000, 0.0000,  ..., 0.0000, 0.0000, 0.0000],\n",
      "          [0.0000, 0.0000, 0.0000,  ..., 0.0000, 0.0000, 0.0000]]]]) tensor([4, 0, 3, 3, 4, 7, 0, 5, 0, 2, 8, 9, 2, 2, 5, 5, 2, 3, 0, 5, 0, 0, 2, 2,\n",
      "        4, 7, 5, 3, 2, 3, 7, 1, 1, 7, 9, 5, 0, 2, 1, 4, 4, 4, 6, 9, 0, 7, 2, 2,\n",
      "        4, 5, 5, 7, 4, 3, 5, 0, 4, 4, 2, 8, 3, 6, 4, 3, 5, 4, 4, 9, 5, 6, 2, 4,\n",
      "        3, 9, 8, 0, 9, 7, 8, 8, 0, 5, 3, 0, 8, 8, 5, 8, 1, 7, 5, 6, 4, 4, 4, 5,\n",
      "        1, 8, 8, 2, 5, 1, 7, 1, 1, 7, 9, 5, 3, 6, 6, 6, 6, 3, 2, 2, 7, 5, 9, 1,\n",
      "        3, 9, 9, 5, 7, 8, 3, 1, 5, 2, 7, 4, 3, 9, 1, 5, 2, 0, 1, 3, 9, 1, 6, 5,\n",
      "        2, 8, 5, 5, 6, 7, 4, 9, 6, 3, 5, 2, 4, 1, 4, 3, 4, 1, 9, 5, 8, 4, 4, 6,\n",
      "        0, 1, 4, 4, 7, 6, 0, 4, 3, 5, 9, 5, 4, 2, 4, 3, 4, 5, 4, 1, 6, 1, 1, 6,\n",
      "        4, 0, 7, 4, 5, 1, 9, 8, 7, 4, 1, 0, 5, 2, 2, 5, 0, 8, 1, 9, 9, 2, 8, 8,\n",
      "        0, 2, 8, 0, 1, 7, 4, 0, 4, 5, 7, 9, 4, 3, 8, 2, 1, 0, 1, 9, 8, 2, 6, 3,\n",
      "        3, 6, 0, 6, 0, 4, 5, 3, 0, 3, 7, 4, 2, 0, 6, 1])\n",
      "torch.Size([256, 1, 28, 28])\n",
      "torch.Size([256])\n"
     ]
    }
   ],
   "source": [
    "for X, y in train_iter:\n",
    "    print(X, y)\n",
    "    print(X.shape)\n",
    "    print(y.shape)\n",
    "    break"
   ]
  },
  {
   "cell_type": "code",
   "execution_count": 32,
   "id": "20113064-037b-4f0e-9377-783a2ff7648f",
   "metadata": {},
   "outputs": [],
   "source": [
    "num_inputs, num_outputs, num_hiddens = 784, 10, 256\n",
    "\n",
    "W1 = torch.normal(0, 0.1, size=[num_inputs, num_hiddens], requires_grad=True)\n",
    "b1 = torch.zeros(num_hiddens, requires_grad=True)\n",
    "W2 = torch.normal(0, 0.1, size=[num_hiddens, num_outputs], requires_grad=True)\n",
    "b2 = torch.zeros(num_outputs, requires_grad=True)\n",
    "\n",
    "params = [W1, b1, W2, b2]"
   ]
  },
  {
   "cell_type": "code",
   "execution_count": 33,
   "id": "bf89d102-afb6-4faa-96ea-78048748a419",
   "metadata": {},
   "outputs": [
    {
     "data": {
      "text/plain": [
       "tensor([[1., 0., 0.],\n",
       "        [0., 2., 2.]])"
      ]
     },
     "execution_count": 33,
     "metadata": {},
     "output_type": "execute_result"
    }
   ],
   "source": [
    "def relu(X):\n",
    "    a = torch.zeros(X.shape) # must use this tensor to next max method, couldn't pass 0.\n",
    "    return torch.max(X, a)\n",
    "\n",
    "tmp = torch.tensor([[1, -1, -2], [-2, 2, 2]])\n",
    "relu(tmp)"
   ]
  },
  {
   "cell_type": "code",
   "execution_count": 34,
   "id": "4f517f13-817f-40c2-a9e8-1ccea0b73796",
   "metadata": {},
   "outputs": [],
   "source": [
    "def net(X):\n",
    "    h1 = relu(torch.matmul(X.reshape(-1, W1.shape[0]), W1) + b1)\n",
    "    return torch.matmul(h1, W2) + b2\n",
    "\n",
    "loss = nn.CrossEntropyLoss()"
   ]
  },
  {
   "cell_type": "code",
   "execution_count": 35,
   "id": "2d3257d4-01a0-4e3c-a759-62641bfaf569",
   "metadata": {},
   "outputs": [],
   "source": [
    "updater = torch.optim.SGD(params, lr =0.1)"
   ]
  },
  {
   "cell_type": "code",
   "execution_count": 36,
   "id": "fc740e01-98d6-42b4-a990-f6dd8542be0e",
   "metadata": {},
   "outputs": [],
   "source": [
    "def train():\n",
    "    for X, y in train_iter:\n",
    "        y_hat = net(X)\n",
    "        l = loss(y_hat, y)\n",
    "        updater.zero_grad()\n",
    "        l.mean().backward()\n",
    "        updater.step()\n",
    "\n",
    "train()"
   ]
  },
  {
   "cell_type": "code",
   "execution_count": 37,
   "id": "90801aa7-032e-4ab5-89ce-38ae9432b020",
   "metadata": {},
   "outputs": [
    {
     "data": {
      "text/plain": [
       "(tensor([[-0.0382,  0.1643, -0.0282,  ..., -0.1390,  0.0787, -0.0051],\n",
       "         [-0.0618,  0.0782, -0.0214,  ...,  0.0221,  0.0616,  0.0637],\n",
       "         [ 0.0659, -0.1044,  0.1116,  ...,  0.1767,  0.1149,  0.2068],\n",
       "         ...,\n",
       "         [ 0.1467,  0.0061, -0.0749,  ..., -0.0714,  0.1141,  0.0212],\n",
       "         [-0.0862, -0.0594, -0.1012,  ..., -0.0127,  0.0953,  0.0839],\n",
       "         [ 0.1571, -0.1099,  0.0719,  ..., -0.1940,  0.1889, -0.0297]],\n",
       "        requires_grad=True),\n",
       " tensor([-1.1612e-02, -6.6219e-04, -7.3992e-03,  1.4403e-02, -1.6735e-04,\n",
       "         -9.3146e-03,  4.2810e-03,  7.2479e-02, -1.1754e-02,  1.2316e-02,\n",
       "          1.3809e-02,  2.1836e-03,  6.1089e-03,  2.1208e-03,  8.2931e-03,\n",
       "         -1.6081e-02, -1.0853e-02,  2.3378e-02,  2.1101e-02,  5.9025e-03,\n",
       "         -6.3466e-02, -1.4827e-02,  1.7535e-02,  7.0913e-03,  1.0086e-02,\n",
       "          2.8470e-02,  3.5262e-03,  2.9868e-02, -2.5012e-03,  5.4202e-03,\n",
       "          2.1868e-02, -1.4181e-02,  2.9643e-02,  2.9768e-02,  1.7703e-02,\n",
       "          1.3647e-02, -1.0811e-02, -9.8722e-03,  4.4297e-04,  2.3683e-02,\n",
       "         -2.2164e-02,  6.0027e-04,  2.4973e-03,  3.0658e-02, -2.4016e-02,\n",
       "          6.4450e-02,  2.6090e-02,  1.1035e-01,  6.4755e-02, -2.2351e-03,\n",
       "          5.5055e-02,  6.8192e-03, -4.1296e-02, -1.8489e-02, -2.2543e-02,\n",
       "         -2.6690e-02, -3.6109e-02, -3.4042e-02, -5.2705e-02,  1.6743e-02,\n",
       "         -2.2982e-04,  3.5256e-02,  2.1400e-02,  2.9414e-03,  6.5861e-03,\n",
       "          2.8792e-05, -2.2093e-02,  3.6116e-02,  1.9475e-03,  7.7023e-03,\n",
       "          2.8655e-02,  5.3445e-04,  2.1916e-02, -4.0724e-03,  2.6368e-02,\n",
       "         -1.7047e-02, -6.0109e-03, -1.6368e-02, -1.3121e-03,  8.6741e-03,\n",
       "          1.2487e-02, -5.4250e-03, -7.7531e-03, -3.7355e-02,  1.9792e-02,\n",
       "         -1.2099e-02, -7.1761e-02, -5.3349e-03, -5.0303e-03, -4.5214e-02,\n",
       "          3.4808e-02,  2.4412e-02, -1.1687e-02, -3.0837e-03, -5.7190e-03,\n",
       "         -8.0857e-03,  3.3696e-02, -1.2625e-02,  5.3685e-02,  4.5745e-02,\n",
       "          2.5955e-02,  3.7779e-03, -2.1764e-02, -8.1273e-03,  1.5099e-02,\n",
       "          3.7621e-03, -1.2611e-02,  4.5817e-02,  3.1136e-02, -3.6548e-03,\n",
       "          2.3280e-02,  1.5260e-02, -2.4674e-02,  2.4915e-03,  4.8163e-03,\n",
       "         -2.7747e-02, -1.5288e-03, -1.9010e-02, -8.2340e-03,  4.8083e-02,\n",
       "         -2.6702e-03, -3.0241e-03, -1.0131e-02,  3.0076e-02,  4.3361e-02,\n",
       "         -2.7775e-03, -8.3819e-04,  4.4034e-02, -2.0747e-02,  9.4698e-03,\n",
       "         -1.8634e-03, -7.5506e-03,  3.2699e-03, -3.9902e-02,  4.1396e-02,\n",
       "          3.2089e-02,  1.2411e-02, -1.2433e-02,  8.9962e-03,  2.0070e-02,\n",
       "         -1.5320e-02,  7.5749e-04, -1.9552e-02,  8.7779e-02,  1.7570e-03,\n",
       "          6.2969e-03,  1.1067e-02, -1.4426e-03,  1.3627e-02,  2.4383e-02,\n",
       "          1.8577e-02,  6.6162e-03,  6.4508e-03,  5.9698e-03, -4.7527e-02,\n",
       "         -2.0909e-02,  1.9144e-02,  8.9715e-03,  4.7973e-02, -8.8498e-03,\n",
       "         -9.3634e-03,  2.6454e-02, -7.9642e-03, -9.0447e-03,  4.0218e-03,\n",
       "         -7.5022e-03, -2.2462e-02, -4.8702e-03,  1.3735e-02,  3.7925e-02,\n",
       "          7.0181e-02, -2.0403e-02, -9.1659e-03,  1.7818e-03,  2.7706e-04,\n",
       "         -4.0126e-02,  3.0446e-02,  3.5092e-02, -1.6016e-02, -6.6770e-03,\n",
       "         -2.8392e-02, -1.6505e-02,  1.2330e-02,  5.6094e-02, -2.4688e-02,\n",
       "          6.6169e-03,  6.7378e-02, -2.0555e-03,  1.0917e-02, -5.5729e-02,\n",
       "         -3.7637e-02, -1.0911e-02,  3.6310e-02,  2.4411e-02,  4.4678e-04,\n",
       "          1.0417e-02, -4.1711e-02, -2.1824e-02, -2.3551e-02,  1.6749e-03,\n",
       "          2.8825e-02,  6.1542e-03,  3.0086e-02, -2.2972e-03,  2.0467e-02,\n",
       "          8.5810e-03, -1.3339e-02,  2.6966e-03,  4.7082e-02, -4.5181e-03,\n",
       "         -3.4891e-03, -1.1131e-02, -5.2896e-03, -8.8086e-03,  4.2636e-03,\n",
       "          6.1248e-03, -1.2890e-02, -1.3297e-02,  4.7805e-02, -7.2560e-03,\n",
       "          1.2456e-02,  6.4217e-02, -6.8861e-03,  1.7856e-02, -2.3736e-02,\n",
       "          2.5990e-02, -7.6400e-03,  8.2374e-03, -1.5038e-02,  3.6151e-03,\n",
       "          2.0985e-02,  3.1644e-02,  4.2274e-03, -5.4150e-03,  2.5887e-02,\n",
       "          3.6688e-03, -9.8333e-03, -7.6626e-02,  6.2447e-02, -9.6936e-03,\n",
       "         -3.7568e-03,  1.1518e-02,  3.3947e-02,  2.2648e-02, -2.0064e-03,\n",
       "          1.1138e-02,  2.5423e-02, -2.2616e-02,  2.7212e-02,  1.7535e-03,\n",
       "          1.6278e-02, -1.8461e-02,  1.3315e-02,  5.7182e-03,  2.3632e-02,\n",
       "         -1.8348e-03], requires_grad=True))"
      ]
     },
     "execution_count": 37,
     "metadata": {},
     "output_type": "execute_result"
    }
   ],
   "source": [
    "W1, b1"
   ]
  },
  {
   "cell_type": "code",
   "execution_count": 38,
   "id": "81c0eb02-3f5a-4844-9a08-1b8814e7f6f7",
   "metadata": {},
   "outputs": [
    {
     "data": {
      "text/plain": [
       "(tensor([[ 0.0008, -0.1804,  0.0943,  ..., -0.0035, -0.0657, -0.0149],\n",
       "         [ 0.0131, -0.1251,  0.1974,  ..., -0.0658, -0.1212,  0.0584],\n",
       "         [-0.1299,  0.1107,  0.0645,  ..., -0.0748, -0.0019, -0.0691],\n",
       "         ...,\n",
       "         [ 0.1212,  0.0953, -0.1514,  ...,  0.0394,  0.0462, -0.0547],\n",
       "         [ 0.0204, -0.1642,  0.0817,  ..., -0.2286, -0.1652, -0.1575],\n",
       "         [-0.0651,  0.0831, -0.0499,  ...,  0.1083, -0.0003,  0.0066]],\n",
       "        requires_grad=True),\n",
       " tensor([ 0.0187, -0.0095, -0.0179,  0.0051, -0.1508,  0.2811,  0.1106, -0.0297,\n",
       "         -0.0822, -0.1254], requires_grad=True))"
      ]
     },
     "execution_count": 38,
     "metadata": {},
     "output_type": "execute_result"
    }
   ],
   "source": [
    "W2, b2"
   ]
  },
  {
   "cell_type": "code",
   "execution_count": 39,
   "id": "01c83bac-7df7-4c44-b393-8542b5e14553",
   "metadata": {},
   "outputs": [
    {
     "data": {
      "image/png": "[encoded data removed]",
      "text/plain": [
       "<Figure size 2250x150 with 15 Axes>"
      ]
     },
     "metadata": {},
     "output_type": "display_data"
    }
   ],
   "source": [
    "def predict(net, test_iter, n=15):\n",
    "    for X, y in test_iter:\n",
    "        trues = d2l.get_fashion_mnist_labels(y)\n",
    "        preds = d2l.get_fashion_mnist_labels(net(X).argmax(axis=1))\n",
    "        titles = [true +'\\n' + pred for true, pred in zip(trues, preds)]\n",
    "        d2l.show_images(\n",
    "            X[0:n].reshape((n, 28, 28)), 1, n, titles=titles[0:n])\n",
    "        break\n",
    "\n",
    "predict(net, test_iter)"
   ]
  },
  {
   "cell_type": "code",
   "execution_count": null,
   "id": "fcbf2436-dfdf-4d90-9144-592260ec07bc",
   "metadata": {},
   "outputs": [],
   "source": []
  }
 ],
 "metadata": {
  "kernelspec": {
   "display_name": "Python 3 (ipykernel)",
   "language": "python",
   "name": "python3"
  },
  "language_info": {
   "codemirror_mode": {
    "name": "ipython",
    "version": 3
   },
   "file_extension": ".py",
   "mimetype": "text/x-python",
   "name": "python",
   "nbconvert_exporter": "python",
   "pygments_lexer": "ipython3",
   "version": "3.9.19"
  }
 },
 "nbformat": 4,
 "nbformat_minor": 5
}

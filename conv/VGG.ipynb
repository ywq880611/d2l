{
 "cells": [
  {
   "cell_type": "code",
   "execution_count": 10,
   "id": "e7f7097b-75c8-40a5-9f92-8c6d05de29b7",
   "metadata": {},
   "outputs": [],
   "source": [
    "import torch\n",
    "from torch import nn\n",
    "from d2l import torch as d2l"
   ]
  },
  {
   "cell_type": "code",
   "execution_count": 11,
   "id": "70058839-1751-4b0b-ae6e-8659a0b65ae5",
   "metadata": {},
   "outputs": [],
   "source": [
    "def vgg_block(num_convs, in_channel, out_channel):\n",
    "    layers=[]\n",
    "    for _ in range(num_convs):\n",
    "        layers.append(nn.Conv2d(in_channel, out_channel,kernel_size=3,padding=1))\n",
    "        layers.append(nn.ReLU())\n",
    "        in_channel = out_channel\n",
    "    layers.append(nn.MaxPool2d(kernel_size=2,stride=2))\n",
    "    return nn.Sequential(*layers)"
   ]
  },
  {
   "cell_type": "code",
   "execution_count": 12,
   "id": "550d7db1-6aa6-4cf5-a3f4-0f2130d22f12",
   "metadata": {},
   "outputs": [],
   "source": [
    "conv_arch = ((1, 64), (1, 128), (2, 256), (2, 512), (2, 512))"
   ]
  },
  {
   "cell_type": "code",
   "execution_count": 20,
   "id": "a449bf7c-bd1f-4d1b-8372-de17fa072dfe",
   "metadata": {},
   "outputs": [
    {
     "name": "stderr",
     "output_type": "stream",
     "text": [
      "/Users/kki/anaconda3/envs/d2l/lib/python3.9/site-packages/torch/nn/modules/lazy.py:181: UserWarning: Lazy modules are a new feature under heavy development so changes to the API or functionality can happen at any moment.\n",
      "  warnings.warn('Lazy modules are a new feature under heavy development '\n"
     ]
    }
   ],
   "source": [
    "def vgg(conv_arch):\n",
    "    vgg_blks=[]\n",
    "    in_channel=1\n",
    "    # vgg part\n",
    "    for conv_cnt, out_channel in conv_arch:\n",
    "        vgg_blks.append(vgg_block(conv_cnt, in_channel, out_channel))\n",
    "        in_channel=out_channel\n",
    "    # linear part\n",
    "    vgg_blks.append(nn.Flatten())\n",
    "    vgg_blks.extend([nn.LazyLinear(4096), nn.ReLU(), nn.Dropout(0.5)])\n",
    "    vgg_blks.extend([nn.Linear(4096, 4096), nn.ReLU(), nn.Dropout(0.5)])\n",
    "    vgg_blks.append(nn.Linear(4096, 10))\n",
    "    return nn.Sequential(*vgg_blks)\n",
    "\n",
    "net = vgg(conv_arch)"
   ]
  },
  {
   "cell_type": "code",
   "execution_count": 21,
   "id": "ff95de16-9fea-46ab-98fe-cd1e4e7b8b26",
   "metadata": {},
   "outputs": [
    {
     "name": "stdout",
     "output_type": "stream",
     "text": [
      "Sequential output shape:\t torch.Size([1, 64, 128, 128])\n",
      "Sequential output shape:\t torch.Size([1, 128, 64, 64])\n",
      "Sequential output shape:\t torch.Size([1, 256, 32, 32])\n",
      "Sequential output shape:\t torch.Size([1, 512, 16, 16])\n",
      "Sequential output shape:\t torch.Size([1, 512, 8, 8])\n",
      "Flatten output shape:\t torch.Size([1, 32768])\n",
      "Linear output shape:\t torch.Size([1, 4096])\n",
      "ReLU output shape:\t torch.Size([1, 4096])\n",
      "Dropout output shape:\t torch.Size([1, 4096])\n",
      "Linear output shape:\t torch.Size([1, 4096])\n",
      "ReLU output shape:\t torch.Size([1, 4096])\n",
      "Dropout output shape:\t torch.Size([1, 4096])\n",
      "Linear output shape:\t torch.Size([1, 10])\n"
     ]
    }
   ],
   "source": [
    "X = torch.randn(size=(1, 1, 256, 256))\n",
    "for blk in net:\n",
    "    X = blk(X)\n",
    "    print(blk.__class__.__name__,'output shape:\\t',X.shape)"
   ]
  },
  {
   "cell_type": "markdown",
   "id": "9878e269-e250-4b4f-831e-8821a88acd94",
   "metadata": {},
   "source": [
    "### Not train in CPU, try to train in GPU later"
   ]
  },
  {
   "cell_type": "code",
   "execution_count": null,
   "id": "006d9db8-9c2f-4746-896e-892e18217574",
   "metadata": {},
   "outputs": [],
   "source": []
  }
 ],
 "metadata": {
  "kernelspec": {
   "display_name": "Python 3 (ipykernel)",
   "language": "python",
   "name": "python3"
  },
  "language_info": {
   "codemirror_mode": {
    "name": "ipython",
    "version": 3
   },
   "file_extension": ".py",
   "mimetype": "text/x-python",
   "name": "python",
   "nbconvert_exporter": "python",
   "pygments_lexer": "ipython3",
   "version": "3.9.19"
  }
 },
 "nbformat": 4,
 "nbformat_minor": 5
}

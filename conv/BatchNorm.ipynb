{
 "cells": [
  {
   "cell_type": "code",
   "execution_count": 1,
   "id": "e80b8004-302c-45a3-ba44-a9df4dd2279d",
   "metadata": {},
   "outputs": [],
   "source": [
    "import torch\n",
    "from torch import nn\n",
    "from d2l import torch as d2l"
   ]
  },
  {
   "cell_type": "code",
   "execution_count": 16,
   "id": "fcac3250-a118-40df-9643-7b395487ba74",
   "metadata": {},
   "outputs": [
    {
     "data": {
      "text/plain": [
       "(tensor([[[[1.5000],\n",
       "           [3.5000]],\n",
       " \n",
       "          [[5.5000],\n",
       "           [7.5000]]]]),\n",
       " torch.Size([1, 2, 2, 1]))"
      ]
     },
     "execution_count": 16,
     "metadata": {},
     "output_type": "execute_result"
    }
   ],
   "source": [
    "X=torch.tensor([[[[1.,2.],[3.,4.]],[[5.,6.],[7.,8.]]]])\n",
    "X=X.mean(dim=(0, 3), keepdim=True)\n",
    "X, X.shape"
   ]
  },
  {
   "cell_type": "code",
   "execution_count": 13,
   "id": "01ea00c9-c745-46da-b99f-80745995709c",
   "metadata": {},
   "outputs": [
    {
     "data": {
      "text/plain": [
       "tensor([[2., 3.]])"
      ]
     },
     "execution_count": 13,
     "metadata": {},
     "output_type": "execute_result"
    }
   ],
   "source": [
    "X=torch.tensor([[1., 2.], [3., 4.]])\n",
    "X.mean(dim=0, keepdim=True)"
   ]
  },
  {
   "cell_type": "code",
   "execution_count": 23,
   "id": "6c2c2f11-dc2f-4dc6-9869-b204244180d5",
   "metadata": {},
   "outputs": [],
   "source": [
    "def batch_norm(X, gamma, beta, moving_mean, moving_var, eps, momentum):\n",
    "    if not torch.is_grad_enabled():\n",
    "        X_hat = (X - moving_mean) / torch.sqrt(moving_var + eps)\n",
    "    else:\n",
    "        assert len(X.shape) in (2, 4) # 2 is fully connect layer, 4 is conv layer\n",
    "        if len(X.shape) == 2: # fully connect layer\n",
    "            mean = X.mean(dim=0)\n",
    "            var = ((X - mean) ** 2).mean(dim=0)\n",
    "        else:\n",
    "            mean = X.mean(dim=(0,2,3), keepdim=True) # calculate the mean of each channel\n",
    "            var = ((X - mean) ** 2).mean(dim=(0,2,3), keepdim=True) # X - mean is propogate the mean to each element in the channel.\n",
    "        X_hat = (X - mean) / torch.sqrt(var + eps)\n",
    "        moving_mean = momentum * moving_mean + (1 - momentum) * mean\n",
    "        moving_var = momentum * moving_var + (1 - momentum) * var\n",
    "    Y_hat = gamma * X_hat + beta\n",
    "    return Y_hat, moving_mean, moving_var"
   ]
  },
  {
   "cell_type": "code",
   "execution_count": 25,
   "id": "bc65a3db-57b2-4b18-a86f-6f7fd305146a",
   "metadata": {},
   "outputs": [
    {
     "data": {
      "text/plain": [
       "(tensor([[ 0.4472,  0.4472],\n",
       "         [-0.4472, -0.4472]]),\n",
       " tensor([1., 1.]),\n",
       " tensor([0., 0.]))"
      ]
     },
     "execution_count": 25,
     "metadata": {},
     "output_type": "execute_result"
    }
   ],
   "source": [
    "X=torch.tensor([[1., 1.], [0., 0.]])\n",
    "batch_norm(X, 1, 0, 1, 0, 1, 1)"
   ]
  },
  {
   "cell_type": "code",
   "execution_count": 26,
   "id": "ec66457a-edd9-4682-b171-49a7bbf39f67",
   "metadata": {},
   "outputs": [],
   "source": [
    "class myBatchNorm(nn.Module):\n",
    "    def __init__(self, num_features, num_dims):\n",
    "        super().__init__()\n",
    "        if num_dims == 2:\n",
    "            shape = (1, num_features)\n",
    "        else:\n",
    "            assert num_dims == 4\n",
    "            shape = (1, num_features, 1, 1)\n",
    "        # shape should do element-wise multiply for batch norm.\n",
    "        self.gamma = nn.Parameter(torch.ones(shape))\n",
    "        self.beta = nn.Parameter(torch.zeros(shape))\n",
    "        self.moving_mean = torch.zeros(shape)\n",
    "        self.moving_var = torch.ones(shape)\n",
    "\n",
    "    def forward(self, X):\n",
    "        Y, moving_mean, moving_var=batch_norm(\n",
    "            X, self.gamma, self.beta, self.moving_mean, self.moving_var,\n",
    "            eps=1e-5, momentum=0.9)\n",
    "        self.moving_mean=moving_mean\n",
    "        self.moving_var=moving_var\n",
    "        return Y\n",
    "        "
   ]
  },
  {
   "cell_type": "code",
   "execution_count": 28,
   "id": "ae4594eb-8099-4e97-a4a9-658b3f712483",
   "metadata": {},
   "outputs": [],
   "source": [
    "net = nn.Sequential(\n",
    "    nn.Conv2d(1, 6, kernel_size=5), myBatchNorm(6, num_dims=4), nn.Sigmoid(),\n",
    "    nn.AvgPool2d(kernel_size=2, stride=2),\n",
    "    nn.Conv2d(6, 16, kernel_size=5), myBatchNorm(16, num_dims=4), nn.Sigmoid(),\n",
    "    nn.AvgPool2d(kernel_size=2, stride=2), nn.Flatten(),\n",
    "    nn.Linear(16*4*4, 120), myBatchNorm(120, num_dims=2), nn.Sigmoid(),\n",
    "    nn.Linear(120, 84), myBatchNorm(84, num_dims=2), nn.Sigmoid(),\n",
    "    nn.Linear(84, 10))"
   ]
  },
  {
   "cell_type": "markdown",
   "id": "76e171b8-bff9-4617-b75a-c4c1c2bb599b",
   "metadata": {},
   "source": [
    "### Train in GPU later"
   ]
  },
  {
   "cell_type": "code",
   "execution_count": null,
   "id": "31722967-4e01-4253-a80d-c3f7894030af",
   "metadata": {},
   "outputs": [],
   "source": []
  }
 ],
 "metadata": {
  "kernelspec": {
   "display_name": "Python 3 (ipykernel)",
   "language": "python",
   "name": "python3"
  },
  "language_info": {
   "codemirror_mode": {
    "name": "ipython",
    "version": 3
   },
   "file_extension": ".py",
   "mimetype": "text/x-python",
   "name": "python",
   "nbconvert_exporter": "python",
   "pygments_lexer": "ipython3",
   "version": "3.9.19"
  }
 },
 "nbformat": 4,
 "nbformat_minor": 5
}

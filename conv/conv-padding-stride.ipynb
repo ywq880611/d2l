{
 "cells": [
  {
   "cell_type": "code",
   "execution_count": 119,
   "id": "fd3079b7-723f-42e7-b8e5-b3ecdc22614d",
   "metadata": {},
   "outputs": [],
   "source": [
    "import torch\n",
    "from torch import nn\n",
    "from d2l import torch as d2l"
   ]
  },
  {
   "cell_type": "code",
   "execution_count": 120,
   "id": "d7c4137c-d48e-4b40-a6be-f5edc45b5a1e",
   "metadata": {},
   "outputs": [
    {
     "data": {
      "text/plain": [
       "torch.Size([8, 8])"
      ]
     },
     "execution_count": 120,
     "metadata": {},
     "output_type": "execute_result"
    }
   ],
   "source": [
    "def compute_conv2d(conv2d, X):\n",
    "    # (1, 1) will help modify the shape of X into a suitable shape\n",
    "    # for conv2d computation.\n",
    "    X = X.reshape((1, 1) + X.shape)\n",
    "    Y = conv2d(X)\n",
    "    # Just like the (1, 1) above, this method remove the (1, 1) in\n",
    "    # return results\n",
    "    #print(\"Y is: \", Y)\n",
    "    return Y.reshape(Y.shape[2:])\n",
    "\n",
    "conv2d = nn.LazyConv2d(1, kernel_size=3, padding=1)\n",
    "X = torch.rand((8, 8))\n",
    "compute_conv2d(conv2d, X).shape"
   ]
  },
  {
   "cell_type": "code",
   "execution_count": 121,
   "id": "3c77aaa4-d4e0-47e7-8022-b196046e962d",
   "metadata": {},
   "outputs": [
    {
     "data": {
      "text/plain": [
       "tensor([[0., 0., 0., 0., 0., 0., 0., 0.],\n",
       "        [0., 0., 0., 0., 0., 0., 0., 0.],\n",
       "        [0., 0., 1., 2., 2., 1., 0., 0.],\n",
       "        [0., 0., 2., 4., 4., 2., 0., 0.],\n",
       "        [0., 0., 2., 4., 4., 2., 0., 0.],\n",
       "        [0., 0., 1., 2., 2., 1., 0., 0.],\n",
       "        [0., 0., 0., 0., 0., 0., 0., 0.],\n",
       "        [0., 0., 0., 0., 0., 0., 0., 0.]], grad_fn=<ViewBackward0>)"
      ]
     },
     "execution_count": 121,
     "metadata": {},
     "output_type": "execute_result"
    }
   ],
   "source": [
    "conv2d = nn.Conv2d(1, 1, kernel_size=2, bias=0, padding=3)\n",
    "conv2d.weight.data = torch.ones((1, 1, 2, 2), requires_grad=True)\n",
    "X = torch.ones((3, 3))\n",
    "compute_conv2d(conv2d, X)"
   ]
  },
  {
   "cell_type": "code",
   "execution_count": 122,
   "id": "795895af-ee80-4fd2-b56b-5619e0a81116",
   "metadata": {},
   "outputs": [
    {
     "data": {
      "text/plain": [
       "tensor([[-0.1063, -0.0253,  0.0845,  0.0448, -0.0345,  0.1142,  0.1202,  0.0467],\n",
       "        [-0.0383,  0.0902,  0.0545,  0.0745,  0.1452, -0.0237,  0.1262,  0.1986],\n",
       "        [-0.0262,  0.1004,  0.0451,  0.0195,  0.1482,  0.1413,  0.1731,  0.3790],\n",
       "        [-0.2000,  0.1423,  0.2661,  0.1258, -0.0061,  0.2357,  0.1614,  0.2021],\n",
       "        [ 0.0604,  0.2778,  0.1180,  0.0945,  0.1374,  0.0146,  0.1736,  0.3904],\n",
       "        [ 0.1010,  0.1191, -0.0297,  0.1442,  0.0747,  0.3457,  0.2106,  0.2159],\n",
       "        [-0.0541,  0.3006,  0.1476,  0.1790,  0.1811,  0.1311,  0.1008,  0.1405],\n",
       "        [ 0.2326,  0.1149,  0.0349,  0.0292, -0.0924,  0.1327,  0.2886,  0.1933],\n",
       "        [ 0.0283, -0.1086,  0.0338,  0.0612,  0.0931, -0.0927, -0.0406,  0.0652],\n",
       "        [-0.0483,  0.0680, -0.1084, -0.1071,  0.1008, -0.0878, -0.0391, -0.0840]],\n",
       "       grad_fn=<ViewBackward0>)"
      ]
     },
     "execution_count": 122,
     "metadata": {},
     "output_type": "execute_result"
    }
   ],
   "source": [
    "X = torch.rand((8, 8))\n",
    "conv2d = nn.LazyConv2d(1, kernel_size=(5,3), padding=(3,1))\n",
    "compute_conv2d(conv2d, X)"
   ]
  },
  {
   "cell_type": "code",
   "execution_count": 123,
   "id": "19e90e0c-d6e3-4d99-b0d4-1e2e26f6ed9f",
   "metadata": {},
   "outputs": [
    {
     "data": {
      "text/plain": [
       "torch.Size([4, 4])"
      ]
     },
     "execution_count": 123,
     "metadata": {},
     "output_type": "execute_result"
    }
   ],
   "source": [
    "conv2d = nn.LazyConv2d(1, kernel_size=3, padding=1, stride=2)\n",
    "compute_conv2d(conv2d, X).shape"
   ]
  },
  {
   "cell_type": "code",
   "execution_count": 124,
   "id": "153932d0-47ff-4031-82cb-021afe13e0cb",
   "metadata": {},
   "outputs": [
    {
     "data": {
      "text/plain": [
       "torch.Size([2, 2])"
      ]
     },
     "execution_count": 124,
     "metadata": {},
     "output_type": "execute_result"
    }
   ],
   "source": [
    "conv2d = nn.LazyConv2d(1, kernel_size=(3, 5), padding=(0, 1), stride=(3, 4))\n",
    "compute_conv2d(conv2d, X).shape"
   ]
  },
  {
   "cell_type": "code",
   "execution_count": 125,
   "id": "2126655e-d804-4cc6-96ff-5e8ad2556c6a",
   "metadata": {},
   "outputs": [
    {
     "data": {
      "text/plain": [
       "tensor(16.)"
      ]
     },
     "execution_count": 125,
     "metadata": {},
     "output_type": "execute_result"
    }
   ],
   "source": [
    "def myConv2d(X, K):\n",
    "    h = K.shape[0]\n",
    "    w = K.shape[1]\n",
    "    Y = torch.zeros((X.shape[0]-h+1, X.shape[1]-w+1))\n",
    "    for i in range(Y.shape[0]):\n",
    "        for j in range(Y.shape[1]):\n",
    "            #print(\"i: \", i, \",j: \", j)\n",
    "            #print(\"Y[i][j]: \", Y[i][j])\n",
    "            Y[i][j] = (X[i:i+h, j:j+w] * K).sum()\n",
    "    return Y\n",
    "\n",
    "X=torch.ones((3,3))\n",
    "K=torch.ones((2,2))\n",
    "myConv2d(X,K).sum()"
   ]
  },
  {
   "cell_type": "code",
   "execution_count": 126,
   "id": "f6e63580-132c-4f6c-8fb1-910e6e96c078",
   "metadata": {},
   "outputs": [],
   "source": [
    "def corr2d_multi_in(X, K):\n",
    "    # Iterate through the 0th dimension (channel) of K first, then add them up\n",
    "    return sum(d2l.corr2d(x, k) for x, k in zip(X, K))"
   ]
  },
  {
   "cell_type": "code",
   "execution_count": 127,
   "id": "b78cf446-4b54-42bf-a105-64b199bcc3ba",
   "metadata": {},
   "outputs": [
    {
     "data": {
      "text/plain": [
       "tensor([[ 56.,  72.],\n",
       "        [104., 120.]])"
      ]
     },
     "execution_count": 127,
     "metadata": {},
     "output_type": "execute_result"
    }
   ],
   "source": [
    "X = torch.tensor([[[0.0, 1.0, 2.0], [3.0, 4.0, 5.0], [6.0, 7.0, 8.0]],\n",
    "               [[1.0, 2.0, 3.0], [4.0, 5.0, 6.0], [7.0, 8.0, 9.0]]])\n",
    "K = torch.tensor([[[0.0, 1.0], [2.0, 3.0]], [[1.0, 2.0], [3.0, 4.0]]])\n",
    "\n",
    "corr2d_multi_in(X, K)"
   ]
  },
  {
   "cell_type": "code",
   "execution_count": 128,
   "id": "03a09945-08ff-44df-9ee1-54a71723de6a",
   "metadata": {},
   "outputs": [],
   "source": [
    "def corr2d_multi_in_out(X, K):\n",
    "    # Iterate through the 0th dimension of K, and each time, perform\n",
    "    # cross-correlation operations with input X. All of the results are\n",
    "    # stacked together\n",
    "    return torch.stack([corr2d_multi_in(X, k) for k in K], 0)"
   ]
  },
  {
   "cell_type": "code",
   "execution_count": 129,
   "id": "207adc1b-83e5-4431-9ea2-a2cfdf746bb7",
   "metadata": {},
   "outputs": [
    {
     "data": {
      "text/plain": [
       "torch.Size([2, 2, 2])"
      ]
     },
     "execution_count": 129,
     "metadata": {},
     "output_type": "execute_result"
    }
   ],
   "source": [
    "K.shape"
   ]
  },
  {
   "cell_type": "code",
   "execution_count": 130,
   "id": "dab5c0ae-4635-41e0-a243-5ed488303ec2",
   "metadata": {},
   "outputs": [
    {
     "data": {
      "text/plain": [
       "torch.Size([3, 2, 2, 2])"
      ]
     },
     "execution_count": 130,
     "metadata": {},
     "output_type": "execute_result"
    }
   ],
   "source": [
    "K = torch.stack((K, K + 1, K + 2), 0)\n",
    "K.shape"
   ]
  },
  {
   "cell_type": "code",
   "execution_count": 131,
   "id": "3a604715-3941-4caf-bfd0-d7a6856fb534",
   "metadata": {},
   "outputs": [
    {
     "data": {
      "text/plain": [
       "tensor([[[ 56.,  72.],\n",
       "         [104., 120.]],\n",
       "\n",
       "        [[ 76., 100.],\n",
       "         [148., 172.]],\n",
       "\n",
       "        [[ 96., 128.],\n",
       "         [192., 224.]]])"
      ]
     },
     "execution_count": 131,
     "metadata": {},
     "output_type": "execute_result"
    }
   ],
   "source": [
    "corr2d_multi_in_out(X, K)"
   ]
  },
  {
   "cell_type": "code",
   "execution_count": 132,
   "id": "77b62e3f-6121-4001-a9a1-ca6d1193a9c9",
   "metadata": {},
   "outputs": [],
   "source": [
    "def corr2d_multi_in_out_1x1(X, K):\n",
    "    c_i, h, w = X.shape\n",
    "    c_o = K.shape[0]\n",
    "    X = X.reshape((c_i, h * w))\n",
    "    K = K.reshape((c_o, c_i))\n",
    "    # Matrix multiplication in the fully connected layer\n",
    "    Y = torch.matmul(K, X)\n",
    "    return Y.reshape((c_o, h, w))"
   ]
  },
  {
   "cell_type": "code",
   "execution_count": 133,
   "id": "fb546490-eba4-4290-81e1-2b5d809a1f36",
   "metadata": {},
   "outputs": [],
   "source": [
    "X = torch.normal(0, 1, (3, 3, 3))\n",
    "K = torch.normal(0, 1, (2, 3, 1, 1))\n",
    "Y1 = corr2d_multi_in_out_1x1(X, K)\n",
    "Y2 = corr2d_multi_in_out(X, K)\n",
    "assert float(torch.abs(Y1 - Y2).sum()) < 1e-6"
   ]
  },
  {
   "cell_type": "code",
   "execution_count": null,
   "id": "70f69f1f-3730-4213-8529-c4c8c3aa4393",
   "metadata": {},
   "outputs": [],
   "source": []
  }
 ],
 "metadata": {
  "kernelspec": {
   "display_name": "Python 3 (ipykernel)",
   "language": "python",
   "name": "python3"
  },
  "language_info": {
   "codemirror_mode": {
    "name": "ipython",
    "version": 3
   },
   "file_extension": ".py",
   "mimetype": "text/x-python",
   "name": "python",
   "nbconvert_exporter": "python",
   "pygments_lexer": "ipython3",
   "version": "3.9.19"
  }
 },
 "nbformat": 4,
 "nbformat_minor": 5
}

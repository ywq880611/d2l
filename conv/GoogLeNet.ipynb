{
 "cells": [
  {
   "cell_type": "code",
   "execution_count": 42,
   "id": "144f8509-25b6-48bb-b5c9-81576fe4bb76",
   "metadata": {},
   "outputs": [],
   "source": [
    "import torch\n",
    "from torch import nn\n",
    "from torch.nn import functional as F\n",
    "from d2l import torch as d2l"
   ]
  },
  {
   "cell_type": "code",
   "execution_count": 43,
   "id": "474192b9-a5f9-4adc-920d-30c7a4bf28c8",
   "metadata": {},
   "outputs": [],
   "source": [
    "class Inception(nn.Module):\n",
    "    def __init__(self, in_channels, c1, c2, c3, c4, ):\n",
    "        super().__init__()\n",
    "        # c1\n",
    "        self.p1_1=nn.Conv2d(in_channels, c1, kernel_size=1)\n",
    "        # c2\n",
    "        self.p2_1=nn.Conv2d(in_channels, c2[0], kernel_size=1)\n",
    "        self.p2_2=nn.Conv2d(c2[0], c2[1], kernel_size=3, padding=1)\n",
    "        # c3\n",
    "        self.p3_1=nn.Conv2d(in_channels, c3[0], kernel_size=1)\n",
    "        self.p3_2=nn.Conv2d(c3[0], c3[1], kernel_size=5, padding=2)\n",
    "        # c4\n",
    "        self.p4_1=nn.MaxPool2d(kernel_size=3, stride=1, padding=1) # default stride value is same as kernel size, so we should pass it as 1 here.\n",
    "        self.p4_2=nn.Conv2d(in_channels, c4, kernel_size=1) # this layer require the p4_1 layer not change the shape of input\n",
    "\n",
    "    def forward(self, X):\n",
    "        p1=F.relu(self.p1_1(X))\n",
    "        p2=F.relu(self.p2_2(F.relu(self.p2_1(X))))\n",
    "        p3=F.relu(self.p3_2(F.relu(self.p3_1(X))))\n",
    "        p4=F.relu(self.p4_2(self.p4_1(X)))\n",
    "        return torch.cat((p1, p2, p3, p4), dim=1)"
   ]
  },
  {
   "cell_type": "code",
   "execution_count": 44,
   "id": "5bfb51e5-c8d0-416a-827c-5d5909b4591e",
   "metadata": {},
   "outputs": [],
   "source": [
    "b1 = nn.Sequential(nn.Conv2d(1, 64, kernel_size=7, stride=2, padding=3),\n",
    "                   nn.ReLU(),\n",
    "                   nn.MaxPool2d(kernel_size=3, stride=2, padding=1))"
   ]
  },
  {
   "cell_type": "code",
   "execution_count": 45,
   "id": "f4d49848-d84e-474e-a6e1-0ac08ce9b0af",
   "metadata": {},
   "outputs": [],
   "source": [
    "b2 = nn.Sequential(nn.Conv2d(64, 64, kernel_size=1),\n",
    "                   nn.ReLU(),\n",
    "                   nn.Conv2d(64, 192, kernel_size=3, padding=1),\n",
    "                   nn.ReLU(),\n",
    "                   nn.MaxPool2d(kernel_size=3, stride=2, padding=1))"
   ]
  },
  {
   "cell_type": "code",
   "execution_count": 46,
   "id": "d9e873cf-512a-4e54-b392-995c85a77c07",
   "metadata": {},
   "outputs": [],
   "source": [
    "b3 = nn.Sequential(Inception(192, 64, (96, 128), (16, 32), 32),\n",
    "                   Inception(256, 128, (128, 192), (32, 96), 64),\n",
    "                   nn.MaxPool2d(kernel_size=3, stride=2, padding=1))"
   ]
  },
  {
   "cell_type": "code",
   "execution_count": 47,
   "id": "4b88621c-a656-4d8c-9924-e2f99c079a70",
   "metadata": {},
   "outputs": [],
   "source": [
    "b4 = nn.Sequential(Inception(480, 192, (96, 208), (16, 48), 64),\n",
    "                   Inception(512, 160, (112, 224), (24, 64), 64),\n",
    "                   Inception(512, 128, (128, 256), (24, 64), 64),\n",
    "                   Inception(512, 112, (144, 288), (32, 64), 64),\n",
    "                   Inception(528, 256, (160, 320), (32, 128), 128),\n",
    "                   nn.MaxPool2d(kernel_size=3, stride=2, padding=1))"
   ]
  },
  {
   "cell_type": "code",
   "execution_count": 48,
   "id": "a8e2d144-e5f0-4140-939f-f27ff972b7f6",
   "metadata": {},
   "outputs": [],
   "source": [
    "b5 = nn.Sequential(Inception(832, 256, (160, 320), (32, 128), 128),\n",
    "                   Inception(832, 384, (192, 384), (48, 128), 128),\n",
    "                   nn.AdaptiveAvgPool2d((1,1)),\n",
    "                   nn.Flatten())\n",
    "\n",
    "net = nn.Sequential(b1, b2, b3, b4, b5, nn.Linear(1024, 10))"
   ]
  },
  {
   "cell_type": "code",
   "execution_count": 49,
   "id": "aad1506f-888e-4bb6-963d-43f4a5a5a2a2",
   "metadata": {},
   "outputs": [
    {
     "name": "stdout",
     "output_type": "stream",
     "text": [
      "Sequential output shape:\t torch.Size([1, 64, 24, 24])\n",
      "Sequential output shape:\t torch.Size([1, 192, 12, 12])\n",
      "Sequential output shape:\t torch.Size([1, 480, 6, 6])\n",
      "Sequential output shape:\t torch.Size([1, 832, 3, 3])\n",
      "Sequential output shape:\t torch.Size([1, 1024])\n",
      "Linear output shape:\t torch.Size([1, 10])\n"
     ]
    }
   ],
   "source": [
    "X = torch.rand(size=(1, 1, 96, 96))\n",
    "for layer in net:\n",
    "    X = layer(X)\n",
    "    print(layer.__class__.__name__,'output shape:\\t', X.shape)"
   ]
  },
  {
   "cell_type": "code",
   "execution_count": null,
   "id": "0474615a-2f16-4235-b438-5e1a307391b6",
   "metadata": {},
   "outputs": [],
   "source": []
  }
 ],
 "metadata": {
  "kernelspec": {
   "display_name": "Python 3 (ipykernel)",
   "language": "python",
   "name": "python3"
  },
  "language_info": {
   "codemirror_mode": {
    "name": "ipython",
    "version": 3
   },
   "file_extension": ".py",
   "mimetype": "text/x-python",
   "name": "python",
   "nbconvert_exporter": "python",
   "pygments_lexer": "ipython3",
   "version": "3.9.19"
  }
 },
 "nbformat": 4,
 "nbformat_minor": 5
}

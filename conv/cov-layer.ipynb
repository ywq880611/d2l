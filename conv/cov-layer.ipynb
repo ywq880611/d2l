{
 "cells": [
  {
   "cell_type": "code",
   "execution_count": 48,
   "id": "e753c1de-d191-48ee-a53c-9a782538eec9",
   "metadata": {},
   "outputs": [],
   "source": [
    "import torch\n",
    "from torch import nn\n",
    "from d2l import torch as d2l"
   ]
  },
  {
   "cell_type": "code",
   "execution_count": 49,
   "id": "6dada135-9d53-45e9-93c3-ce619f416fa4",
   "metadata": {},
   "outputs": [
    {
     "data": {
      "text/plain": [
       "tensor([[20., 27.],\n",
       "        [41., 48.]])"
      ]
     },
     "execution_count": 49,
     "metadata": {},
     "output_type": "execute_result"
    }
   ],
   "source": [
    "def cov2d(X, K):\n",
    "    h, w = K.shape\n",
    "    Y = torch.zeros([X.shape[0] - h + 1, X.shape[1] - w + 1])\n",
    "    for i in range(Y.shape[0]):\n",
    "        for j in range(Y.shape[1]):\n",
    "            Y[i][j] = ((X[i: i+h, j: j+w]) * K).sum()\n",
    "    return Y\n",
    "\n",
    "X = torch.tensor([[0.0, 1.0, 2.0], [3.0, 4.0, 5.0], [6.0, 7.0, 8.0]])\n",
    "K = torch.tensor([[0.0, 2.0], [2.0, 3.0]])\n",
    "cov2d(X, K)"
   ]
  },
  {
   "cell_type": "code",
   "execution_count": 50,
   "id": "2a8db855-bcbe-425c-89aa-a3f56790f040",
   "metadata": {},
   "outputs": [
    {
     "data": {
      "text/plain": [
       "tensor([[20., 27.],\n",
       "        [41., 48.]])"
      ]
     },
     "execution_count": 50,
     "metadata": {},
     "output_type": "execute_result"
    }
   ],
   "source": [
    "class myCovLayer(nn.Module):\n",
    "    def __init__(self, K):\n",
    "        super().__init__()\n",
    "        self.kernel = K\n",
    "        self.bias = torch.zeros(1)\n",
    "\n",
    "    def forward(self, X):\n",
    "        return cov2d(X, self.kernel) + self.bias\n",
    "\n",
    "myCov = myCovLayer(K)\n",
    "myCov(X)"
   ]
  },
  {
   "cell_type": "code",
   "execution_count": 51,
   "id": "9118266c-0b24-499a-b24d-ccba0bdf65f7",
   "metadata": {},
   "outputs": [
    {
     "data": {
      "text/plain": [
       "tensor([[1., 1., 0., 0., 0., 1., 1., 1.],\n",
       "        [1., 1., 0., 0., 0., 1., 1., 1.],\n",
       "        [1., 1., 0., 0., 0., 1., 1., 1.],\n",
       "        [1., 1., 0., 0., 0., 1., 1., 1.],\n",
       "        [1., 1., 0., 0., 0., 1., 1., 1.],\n",
       "        [1., 1., 0., 0., 0., 1., 1., 1.]])"
      ]
     },
     "execution_count": 51,
     "metadata": {},
     "output_type": "execute_result"
    }
   ],
   "source": [
    "X = torch.ones(6, 8)\n",
    "X[:, 2:5] = 0\n",
    "X"
   ]
  },
  {
   "cell_type": "code",
   "execution_count": 52,
   "id": "5aac7734-cf3e-42ae-8959-25a94a125baa",
   "metadata": {},
   "outputs": [
    {
     "data": {
      "text/plain": [
       "tensor([[ 0.,  2.,  0.,  0., -2.,  0.,  0.],\n",
       "        [ 0.,  2.,  0.,  0., -2.,  0.,  0.],\n",
       "        [ 0.,  2.,  0.,  0., -2.,  0.,  0.],\n",
       "        [ 0.,  2.,  0.,  0., -2.,  0.,  0.],\n",
       "        [ 0.,  2.,  0.,  0., -2.,  0.,  0.]])"
      ]
     },
     "execution_count": 52,
     "metadata": {},
     "output_type": "execute_result"
    }
   ],
   "source": [
    "horizontal_kernel = torch.tensor([[1, -1], [1, -1]])\n",
    "horizontal_cov_Layer = myCovLayer(horizontal_kernel)\n",
    "horizontal_cov_Layer(X)"
   ]
  },
  {
   "cell_type": "code",
   "execution_count": 53,
   "id": "07c2f79e-e659-4b78-87c1-6e78036b0c79",
   "metadata": {},
   "outputs": [],
   "source": [
    "K = torch.tensor([[1.0, -1.0]])"
   ]
  },
  {
   "cell_type": "code",
   "execution_count": 54,
   "id": "874850b0-63d4-4be0-bd19-d769c02e594a",
   "metadata": {},
   "outputs": [
    {
     "data": {
      "text/plain": [
       "(tensor([[1., 1., 0., 0., 0., 1., 1., 1.],\n",
       "         [1., 1., 0., 0., 0., 1., 1., 1.],\n",
       "         [1., 1., 0., 0., 0., 1., 1., 1.],\n",
       "         [1., 1., 0., 0., 0., 1., 1., 1.],\n",
       "         [1., 1., 0., 0., 0., 1., 1., 1.],\n",
       "         [1., 1., 0., 0., 0., 1., 1., 1.]]),\n",
       " tensor([[ 0.,  1.,  0.,  0., -1.,  0.,  0.],\n",
       "         [ 0.,  1.,  0.,  0., -1.,  0.,  0.],\n",
       "         [ 0.,  1.,  0.,  0., -1.,  0.,  0.],\n",
       "         [ 0.,  1.,  0.,  0., -1.,  0.,  0.],\n",
       "         [ 0.,  1.,  0.,  0., -1.,  0.,  0.],\n",
       "         [ 0.,  1.,  0.,  0., -1.,  0.,  0.]]))"
      ]
     },
     "execution_count": 54,
     "metadata": {},
     "output_type": "execute_result"
    }
   ],
   "source": [
    "Y = cov2d(X, K)\n",
    "X, Y"
   ]
  },
  {
   "cell_type": "markdown",
   "id": "88f71440-5675-4468-8d8b-8b2e9a7ba7d2",
   "metadata": {},
   "source": [
    "### Train a conv layer"
   ]
  },
  {
   "cell_type": "code",
   "execution_count": 70,
   "id": "8517261d-dcfb-4f86-9def-de16d7c45e8a",
   "metadata": {},
   "outputs": [
    {
     "name": "stdout",
     "output_type": "stream",
     "text": [
      "Parameter containing:\n",
      "tensor([[[[-0.3310, -0.4066]]]], requires_grad=True)\n",
      "tensor([[[[-0.8505, -0.3886]]]])\n",
      "tensor([[[[ 0.5195, -0.0180]]]])\n",
      "Parameter containing:\n",
      "tensor([[[[ 0.5195, -0.0180]]]], requires_grad=True)\n",
      "tensor([[[[0.2458, 0.5968]]]])\n",
      "tensor([[[[ 0.2737, -0.6148]]]])\n",
      "epoch 2, loss 11.699\n",
      "Parameter containing:\n",
      "tensor([[[[ 0.2737, -0.6148]]]], requires_grad=True)\n",
      "tensor([[[[-0.4199, -0.1531]]]])\n",
      "tensor([[[[ 0.6936, -0.4617]]]])\n",
      "Parameter containing:\n",
      "tensor([[[[ 0.6936, -0.4617]]]], requires_grad=True)\n",
      "tensor([[[[0.0934, 0.2962]]]])\n",
      "tensor([[[[ 0.6001, -0.7578]]]])\n",
      "epoch 4, loss 3.270\n",
      "Parameter containing:\n",
      "tensor([[[[ 0.6001, -0.7578]]]], requires_grad=True)\n",
      "tensor([[[[-0.2095, -0.0554]]]])\n",
      "tensor([[[[ 0.8097, -0.7024]]]])\n",
      "Parameter containing:\n",
      "tensor([[[[ 0.8097, -0.7024]]]], requires_grad=True)\n",
      "tensor([[[[0.0315, 0.1486]]]])\n",
      "tensor([[[[ 0.7781, -0.8510]]]])\n",
      "epoch 6, loss 0.956\n",
      "Parameter containing:\n",
      "tensor([[[[ 0.7781, -0.8510]]]], requires_grad=True)\n",
      "tensor([[[[-0.1058, -0.0168]]]])\n",
      "tensor([[[[ 0.8839, -0.8343]]]])\n",
      "Parameter containing:\n",
      "tensor([[[[ 0.8839, -0.8343]]]], requires_grad=True)\n",
      "tensor([[[[0.0078, 0.0755]]]])\n",
      "tensor([[[[ 0.8760, -0.9098]]]])\n",
      "epoch 8, loss 0.290\n",
      "Parameter containing:\n",
      "tensor([[[[ 0.8760, -0.9098]]]], requires_grad=True)\n",
      "tensor([[[[-0.0540, -0.0026]]]])\n",
      "tensor([[[[ 0.9301, -0.9071]]]])\n",
      "Parameter containing:\n",
      "tensor([[[[ 0.9301, -0.9071]]]], requires_grad=True)\n",
      "tensor([[[[-0.0003,  0.0388]]]])\n",
      "tensor([[[[ 0.9303, -0.9459]]]])\n",
      "epoch 10, loss 0.091\n"
     ]
    }
   ],
   "source": [
    "conv2d = nn.LazyConv2d(1, kernel_size=(1, 2), bias=False)\n",
    "\n",
    "X = X.reshape((1, 1, 6, 8))\n",
    "Y = Y.reshape((1, 1, 6, 7))\n",
    "lr = 2e-2  # seems 3e-2 will not convege!!!!\n",
    "\n",
    "for i in range(10):\n",
    "    Y_hat = conv2d(X)\n",
    "    l = (Y_hat - Y) ** 2\n",
    "    conv2d.zero_grad()\n",
    "    l.sum().backward()\n",
    "    print(conv2d.weight)\n",
    "    print(lr * conv2d.weight.grad)\n",
    "    print(conv2d.weight.data - lr * conv2d.weight.grad)\n",
    "    conv2d.weight.data[:] -= lr * conv2d.weight.grad\n",
    "    if (i + 1) % 2 == 0:\n",
    "        print(f'epoch {i + 1}, loss {l.sum():.3f}')"
   ]
  },
  {
   "cell_type": "code",
   "execution_count": 71,
   "id": "351631dc-9697-474b-a360-6aa783041ca6",
   "metadata": {},
   "outputs": [
    {
     "data": {
      "text/plain": [
       "Parameter containing:\n",
       "tensor([[[[ 0.9303, -0.9459]]]], requires_grad=True)"
      ]
     },
     "execution_count": 71,
     "metadata": {},
     "output_type": "execute_result"
    }
   ],
   "source": [
    "conv2d.weight"
   ]
  },
  {
   "cell_type": "code",
   "execution_count": null,
   "id": "08bcee9a-fdc8-4949-b24c-3b5ddc5856be",
   "metadata": {},
   "outputs": [],
   "source": []
  }
 ],
 "metadata": {
  "kernelspec": {
   "display_name": "Python 3 (ipykernel)",
   "language": "python",
   "name": "python3"
  },
  "language_info": {
   "codemirror_mode": {
    "name": "ipython",
    "version": 3
   },
   "file_extension": ".py",
   "mimetype": "text/x-python",
   "name": "python",
   "nbconvert_exporter": "python",
   "pygments_lexer": "ipython3",
   "version": "3.9.19"
  }
 },
 "nbformat": 4,
 "nbformat_minor": 5
}

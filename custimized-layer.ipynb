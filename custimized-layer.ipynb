{
 "cells": [
  {
   "cell_type": "code",
   "execution_count": 8,
   "id": "2518cc77-d0f8-44ac-80b6-164f84d66aab",
   "metadata": {},
   "outputs": [],
   "source": [
    "import torch\n",
    "from torch import nn"
   ]
  },
  {
   "cell_type": "code",
   "execution_count": 9,
   "id": "984c5012-d41c-4c6c-aafa-80c9785b04fb",
   "metadata": {},
   "outputs": [
    {
     "data": {
      "text/plain": [
       "tensor([-2., -1.,  0.,  1.,  2.])"
      ]
     },
     "execution_count": 9,
     "metadata": {},
     "output_type": "execute_result"
    }
   ],
   "source": [
    "class myFirstLayer(nn.Module):\n",
    "    def __init__(self):\n",
    "        super().__init__()\n",
    "\n",
    "    def forward(self, X):\n",
    "        return X - X.mean()\n",
    "\n",
    "\n",
    "layer = myFirstLayer()\n",
    "layer(torch.FloatTensor([1, 2, 3, 4, 5]))"
   ]
  },
  {
   "cell_type": "code",
   "execution_count": 12,
   "id": "f27e625a-3757-41d8-97d4-fe920f8231cb",
   "metadata": {},
   "outputs": [
    {
     "data": {
      "text/plain": [
       "tensor([[-0.4352,  0.5869,  0.1715,  0.0267, -0.3095,  0.5091, -0.4998, -0.1623,\n",
       "         -0.0100,  0.0348, -0.6428,  0.2790,  0.5074,  0.3569, -0.2986, -0.1141]],\n",
       "       grad_fn=<SubBackward0>)"
      ]
     },
     "execution_count": 12,
     "metadata": {},
     "output_type": "execute_result"
    }
   ],
   "source": [
    "net = nn.Sequential(nn.Linear(8, 16), myFirstLayer())\n",
    "net(torch.rand(1, 8))"
   ]
  },
  {
   "cell_type": "code",
   "execution_count": 23,
   "id": "9019f3e2-297b-4d2b-bb64-b0c5da8bd19e",
   "metadata": {},
   "outputs": [
    {
     "data": {
      "text/plain": [
       "tensor([ 9.0912,  2.5225,  8.2572,  1.7530,  3.8271,  4.7539,  9.0255,  5.7048,\n",
       "         6.3211, 10.9447,  3.1563,  5.4019,  3.7670,  6.6258,  5.5850,  8.3911])"
      ]
     },
     "execution_count": 23,
     "metadata": {},
     "output_type": "execute_result"
    }
   ],
   "source": [
    "class myLinear(nn.Module):\n",
    "    def __init__(self, in_units, out_units):\n",
    "        super().__init__()\n",
    "        self.weight = torch.rand(in_units, out_units)\n",
    "        self.bias = torch.rand(out_units)\n",
    "\n",
    "    def forward(self, X):\n",
    "        h = torch.matmul(X, self.weight.data) + self.bias.data\n",
    "        return nn.functional.relu(h)\n",
    "\n",
    "ml = myLinear(8, 16)\n",
    "ml(torch.tensor([-1, -2, 3., 2.1, -1.2, 2, 4, 5]))"
   ]
  },
  {
   "cell_type": "code",
   "execution_count": 24,
   "id": "673bf4cb-bea5-4609-b03c-33174474e2c5",
   "metadata": {},
   "outputs": [
    {
     "data": {
      "text/plain": [
       "(tensor([[0.5951, 0.0593, 0.0016, 0.6765, 0.9281, 0.5593, 0.6187, 0.0920, 0.7601,\n",
       "          0.3283, 0.8766, 0.7334, 0.4496, 0.3782, 0.6352, 0.3742],\n",
       "         [0.1519, 0.9444, 0.9957, 0.8919, 0.6430, 0.0583, 0.0825, 0.4802, 0.6916,\n",
       "          0.5790, 0.6364, 0.4376, 0.1574, 0.6311, 0.7402, 0.1338],\n",
       "         [0.3650, 0.0732, 0.3082, 0.0054, 0.3590, 0.9079, 0.9388, 0.2425, 0.7290,\n",
       "          0.4315, 0.2925, 0.8197, 0.1161, 0.3512, 0.1927, 0.6965],\n",
       "         [0.9384, 0.7163, 0.1259, 0.0448, 0.3653, 0.0970, 0.1629, 0.7062, 0.4961,\n",
       "          0.7681, 0.2672, 0.3617, 0.0962, 0.0972, 0.8350, 0.5169],\n",
       "         [0.3744, 0.4523, 0.4586, 0.2184, 0.1665, 0.0135, 0.9018, 0.3339, 0.0861,\n",
       "          0.2733, 0.0336, 0.2791, 0.0890, 0.0839, 0.7446, 0.3313],\n",
       "         [0.3630, 0.0948, 0.2438, 0.6222, 0.9770, 0.4031, 0.9268, 0.4732, 0.3869,\n",
       "          0.6928, 0.1599, 0.6499, 0.5823, 0.6801, 0.6322, 0.3295],\n",
       "         [0.4991, 0.0234, 0.9181, 0.3547, 0.2044, 0.3641, 0.3831, 0.7808, 0.0824,\n",
       "          0.9713, 0.6394, 0.2835, 0.0076, 0.7112, 0.3738, 0.0423],\n",
       "         [0.7992, 0.5639, 0.9904, 0.3350, 0.2581, 0.0240, 0.7964, 0.0108, 0.7526,\n",
       "          0.8761, 0.1789, 0.2983, 0.4808, 0.5488, 0.5815, 0.9381]]),\n",
       " tensor([0.6554, 0.1864, 0.4999, 0.0266, 0.3347, 0.1357, 0.3650, 0.8235, 0.4723,\n",
       "         0.2002, 0.1357, 0.2013, 0.4885, 0.1603, 0.5952, 0.7368]))"
      ]
     },
     "execution_count": 24,
     "metadata": {},
     "output_type": "execute_result"
    }
   ],
   "source": [
    "ml.weight, ml.bias"
   ]
  },
  {
   "cell_type": "code",
   "execution_count": null,
   "id": "b60824c4-812c-4675-bb91-7c697062c2ee",
   "metadata": {},
   "outputs": [],
   "source": []
  }
 ],
 "metadata": {
  "kernelspec": {
   "display_name": "Python 3 (ipykernel)",
   "language": "python",
   "name": "python3"
  },
  "language_info": {
   "codemirror_mode": {
    "name": "ipython",
    "version": 3
   },
   "file_extension": ".py",
   "mimetype": "text/x-python",
   "name": "python",
   "nbconvert_exporter": "python",
   "pygments_lexer": "ipython3",
   "version": "3.9.19"
  }
 },
 "nbformat": 4,
 "nbformat_minor": 5
}

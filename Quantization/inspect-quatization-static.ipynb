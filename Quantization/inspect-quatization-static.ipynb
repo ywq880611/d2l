{
 "cells": [
  {
   "cell_type": "code",
   "execution_count": 22,
   "id": "f65b564c",
   "metadata": {},
   "outputs": [],
   "source": [
    "import torch\n",
    "import torch.quantization"
   ]
  },
  {
   "cell_type": "code",
   "execution_count": 23,
   "id": "05017002",
   "metadata": {},
   "outputs": [],
   "source": [
    "# 定义一个简单的模型\n",
    "class MyModel(torch.nn.Module):\n",
    "    def __init__(self):\n",
    "        super(MyModel, self).__init__()\n",
    "        self.conv = torch.nn.Conv2d(1, 20, 5)\n",
    "        self.relu = torch.nn.ReLU()\n",
    "\n",
    "    def forward(self, x):\n",
    "        x = self.conv(x)\n",
    "        x = self.relu(x)\n",
    "        return x"
   ]
  },
  {
   "cell_type": "code",
   "execution_count": 24,
   "id": "efcc0bac",
   "metadata": {},
   "outputs": [
    {
     "data": {
      "text/plain": [
       "MyModel(\n",
       "  (conv): Conv2d(1, 20, kernel_size=(5, 5), stride=(1, 1))\n",
       "  (relu): ReLU()\n",
       ")"
      ]
     },
     "execution_count": 24,
     "metadata": {},
     "output_type": "execute_result"
    }
   ],
   "source": [
    "# 创建模型实例\n",
    "model = MyModel()\n",
    "\n",
    "# 切换到评估模式\n",
    "model.eval()"
   ]
  },
  {
   "cell_type": "code",
   "execution_count": 25,
   "id": "b76ad27d",
   "metadata": {},
   "outputs": [
    {
     "data": {
      "text/plain": [
       "MyModel(\n",
       "  (conv): Conv2d(\n",
       "    1, 20, kernel_size=(5, 5), stride=(1, 1)\n",
       "    (activation_post_process): HistogramObserver(min_val=inf, max_val=-inf)\n",
       "  )\n",
       "  (relu): ReLU()\n",
       ")"
      ]
     },
     "execution_count": 25,
     "metadata": {},
     "output_type": "execute_result"
    }
   ],
   "source": [
    "# 设置量化配置，使用fbgemm后端\n",
    "model.qconfig = torch.quantization.get_default_qconfig('x86')\n",
    "\n",
    "# 准备模型进行量化（自动插入量化相关层）\n",
    "torch.quantization.prepare(model, inplace=True)"
   ]
  },
  {
   "cell_type": "code",
   "execution_count": 26,
   "id": "6b0f4ebb",
   "metadata": {},
   "outputs": [],
   "source": [
    "# 模拟校准数据运行一次前向传播，校准模型的量化参数\n",
    "calibration_data = torch.randn(10, 1, 28, 28)  # 假设有10个校准数据\n",
    "with torch.no_grad():\n",
    "    for data in calibration_data:\n",
    "        model(data)"
   ]
  },
  {
   "cell_type": "code",
   "execution_count": 27,
   "id": "e1038143",
   "metadata": {},
   "outputs": [],
   "source": [
    "# 执行量化转换\n",
    "quantized_model = torch.quantization.convert(model, inplace=False)"
   ]
  },
  {
   "cell_type": "code",
   "execution_count": 28,
   "id": "a3cccd02",
   "metadata": {},
   "outputs": [
    {
     "data": {
      "text/plain": [
       "MyModel(\n",
       "  (conv): QuantizedConv2d(1, 20, kernel_size=(5, 5), stride=(1, 1), scale=0.038826461881399155, zero_point=64)\n",
       "  (relu): ReLU()\n",
       ")"
      ]
     },
     "execution_count": 28,
     "metadata": {},
     "output_type": "execute_result"
    }
   ],
   "source": [
    "quantized_model"
   ]
  },
  {
   "cell_type": "code",
   "execution_count": 31,
   "id": "8926d078",
   "metadata": {},
   "outputs": [
    {
     "name": "stdout",
     "output_type": "stream",
     "text": [
      "MyModel(\n",
      "  (conv): QuantizedConv2d(1, 20, kernel_size=(5, 5), stride=(1, 1), scale=0.038826461881399155, zero_point=64)\n",
      "  (relu): ReLU()\n",
      ")\n"
     ]
    }
   ],
   "source": [
    "print(quantized_model)"
   ]
  },
  {
   "cell_type": "code",
   "execution_count": null,
   "id": "929fe0a9",
   "metadata": {},
   "outputs": [],
   "source": []
  }
 ],
 "metadata": {
  "kernelspec": {
   "display_name": "Python 3 (ipykernel)",
   "language": "python",
   "name": "python3"
  },
  "language_info": {
   "codemirror_mode": {
    "name": "ipython",
    "version": 3
   },
   "file_extension": ".py",
   "mimetype": "text/x-python",
   "name": "python",
   "nbconvert_exporter": "python",
   "pygments_lexer": "ipython3",
   "version": "3.9.19"
  }
 },
 "nbformat": 4,
 "nbformat_minor": 5
}

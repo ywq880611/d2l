{
 "cells": [
  {
   "cell_type": "code",
   "execution_count": 11,
   "id": "21061d44",
   "metadata": {},
   "outputs": [],
   "source": [
    "import torch"
   ]
  },
  {
   "cell_type": "code",
   "execution_count": 12,
   "id": "f452546d",
   "metadata": {},
   "outputs": [],
   "source": [
    "class MyModel(torch.nn.Module):\n",
    "\n",
    "    def __init__(self):\n",
    "        super().__init__()\n",
    "        self.linear1 = torch.nn.Linear(3, 3, bias=False)\n",
    "        self.relu = torch.nn.ReLU()\n",
    "        self.linear2 = torch.nn.Linear(3, 1, bias=False)\n",
    "\n",
    "    def forward(self, x):\n",
    "        x = self.linear2(self.relu(self.linear1(x)))\n",
    "        return x"
   ]
  },
  {
   "cell_type": "code",
   "execution_count": 13,
   "id": "478dd846",
   "metadata": {},
   "outputs": [],
   "source": [
    "weights = torch.tensor([[1.1], [2.2], [3.3]])\n",
    "torch.manual_seed(123)\n",
    "training_features = torch.randn(12000, 3)\n",
    "training_labels = torch.matmul(training_features, weights)\n",
    "\n",
    "torch.manual_seed(123)\n",
    "test_features = torch.randn(1000, 3)\n",
    "test_labels = torch.matmul(test_features, weights)"
   ]
  },
  {
   "cell_type": "code",
   "execution_count": 14,
   "id": "1eb47980",
   "metadata": {},
   "outputs": [],
   "source": [
    "model = MyModel()\n",
    "optimizer = torch.optim.Adam(model.parameters(), lr=0.1)\n",
    "for epoch in range(100):\n",
    "    preds = model(training_features)\n",
    "    loss = torch.nn.functional.mse_loss(preds, training_labels)\n",
    "    loss.backward()\n",
    "    optimizer.step()\n",
    "    optimizer.zero_grad()"
   ]
  },
  {
   "cell_type": "code",
   "execution_count": 15,
   "id": "10290d97",
   "metadata": {},
   "outputs": [
    {
     "name": "stdout",
     "output_type": "stream",
     "text": [
      "float32 model testing loss: 0.199\n"
     ]
    }
   ],
   "source": [
    "model.eval()\n",
    "with torch.no_grad():\n",
    "    preds = model(test_features)\n",
    "    mse = torch.nn.functional.mse_loss(preds, test_labels)\n",
    "    print(f\"float32 model testing loss: {mse.item():.3f}\")"
   ]
  },
  {
   "cell_type": "code",
   "execution_count": 16,
   "id": "d0c5f908",
   "metadata": {},
   "outputs": [
    {
     "name": "stdout",
     "output_type": "stream",
     "text": [
      "int8 model testing loss: 0.212\n"
     ]
    }
   ],
   "source": [
    "model_int8 = torch.ao.quantization.quantize_dynamic(model, {torch.nn.Linear},\n",
    "                                                    dtype=torch.qint8)\n",
    "with torch.no_grad():\n",
    "    preds = model_int8(test_features)\n",
    "    mse = torch.nn.functional.mse_loss(preds, test_labels)\n",
    "    print(f\"int8 model testing loss: {mse.item():.3f}\")"
   ]
  },
  {
   "cell_type": "code",
   "execution_count": 17,
   "id": "d6b27214",
   "metadata": {},
   "outputs": [
    {
     "data": {
      "text/plain": [
       "Parameter containing:\n",
       "tensor([[-0.8265, -1.9637, -3.6101],\n",
       "        [ 0.1484,  0.5460,  1.7600],\n",
       "        [ 0.9747,  1.7071,  1.6407]], requires_grad=True)"
      ]
     },
     "execution_count": 17,
     "metadata": {},
     "output_type": "execute_result"
    }
   ],
   "source": [
    "model.linear1.weight"
   ]
  },
  {
   "cell_type": "code",
   "execution_count": 18,
   "id": "2013bad5",
   "metadata": {},
   "outputs": [
    {
     "data": {
      "text/plain": [
       "tensor([[ -29,  -69, -127],\n",
       "        [   5,   19,   62],\n",
       "        [  34,   60,   58]], dtype=torch.int8)"
      ]
     },
     "execution_count": 18,
     "metadata": {},
     "output_type": "execute_result"
    }
   ],
   "source": [
    "torch.int_repr(model_int8.linear1.weight())"
   ]
  },
  {
   "cell_type": "code",
   "execution_count": 19,
   "id": "0e9d8ddb",
   "metadata": {},
   "outputs": [
    {
     "data": {
      "text/plain": [
       "tensor([[-0.8211, -1.9537, -3.5960],\n",
       "        [ 0.1416,  0.5380,  1.7555],\n",
       "        [ 0.9627,  1.6989,  1.6423]], size=(3, 3), dtype=torch.qint8,\n",
       "       quantization_scheme=torch.per_tensor_affine, scale=0.028314679861068726,\n",
       "       zero_point=0)"
      ]
     },
     "execution_count": 19,
     "metadata": {},
     "output_type": "execute_result"
    }
   ],
   "source": [
    "model_int8.linear1.weight()"
   ]
  },
  {
   "cell_type": "code",
   "execution_count": null,
   "id": "2eb33153",
   "metadata": {},
   "outputs": [],
   "source": []
  }
 ],
 "metadata": {
  "kernelspec": {
   "display_name": "Python 3 (ipykernel)",
   "language": "python",
   "name": "python3"
  },
  "language_info": {
   "codemirror_mode": {
    "name": "ipython",
    "version": 3
   },
   "file_extension": ".py",
   "mimetype": "text/x-python",
   "name": "python",
   "nbconvert_exporter": "python",
   "pygments_lexer": "ipython3",
   "version": "3.9.19"
  }
 },
 "nbformat": 4,
 "nbformat_minor": 5
}

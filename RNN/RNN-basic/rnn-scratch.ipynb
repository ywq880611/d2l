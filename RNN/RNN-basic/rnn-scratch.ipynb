{
 "cells": [
  {
   "cell_type": "code",
   "execution_count": 378,
   "id": "c893b053-5f21-4b28-b1b2-0ce52b6d289f",
   "metadata": {},
   "outputs": [],
   "source": [
    "%matplotlib inline\n",
    "import math\n",
    "import torch\n",
    "from torch import nn\n",
    "from torch.nn import functional as F\n",
    "from d2l import torch as d2l\n",
    "import time"
   ]
  },
  {
   "cell_type": "code",
   "execution_count": 379,
   "id": "b5e48b63-46f9-4c61-a31d-4ce3a29f2961",
   "metadata": {},
   "outputs": [],
   "source": [
    "batch_size, num_steps = 32, 35\n",
    "train_iter, vocab = d2l.load_data_time_machine(batch_size, num_steps)"
   ]
  },
  {
   "cell_type": "code",
   "execution_count": 380,
   "id": "490038f6-4c2c-458c-b356-181d78c32f15",
   "metadata": {},
   "outputs": [
    {
     "data": {
      "text/plain": [
       "tensor([[1, 0, 0, 0, 0, 0, 0, 0, 0, 0, 0, 0, 0, 0, 0, 0, 0, 0, 0, 0, 0, 0, 0, 0,\n",
       "         0, 0, 0, 0],\n",
       "        [0, 0, 1, 0, 0, 0, 0, 0, 0, 0, 0, 0, 0, 0, 0, 0, 0, 0, 0, 0, 0, 0, 0, 0,\n",
       "         0, 0, 0, 0]])"
      ]
     },
     "execution_count": 380,
     "metadata": {},
     "output_type": "execute_result"
    }
   ],
   "source": [
    "F.one_hot(torch.tensor([0, 2]), len(vocab))"
   ]
  },
  {
   "cell_type": "code",
   "execution_count": 381,
   "id": "1f3c1d40",
   "metadata": {},
   "outputs": [
    {
     "data": {
      "text/plain": [
       "torch.Size([5, 2, 28])"
      ]
     },
     "execution_count": 381,
     "metadata": {},
     "output_type": "execute_result"
    }
   ],
   "source": [
    "X = torch.arange(10).reshape((2, 5))\n",
    "F.one_hot(X.T, 28).shape"
   ]
  },
  {
   "cell_type": "code",
   "execution_count": 382,
   "id": "b76f776c",
   "metadata": {},
   "outputs": [],
   "source": [
    "def get_params(vocab_size, num_hiddens, device):\n",
    "    num_inputs = num_outputs = vocab_size\n",
    "\n",
    "    def normal(shape):\n",
    "        return torch.randn(size=shape, device=device) * 0.01\n",
    "\n",
    "    # 隐藏层参数\n",
    "    W_xh = normal((num_inputs, num_hiddens))\n",
    "    W_hh = normal((num_hiddens, num_hiddens))\n",
    "    b_h = torch.zeros(num_hiddens, device=device)\n",
    "    # 输出层参数\n",
    "    W_hq = normal((num_hiddens, num_outputs))\n",
    "    b_q = torch.zeros(num_outputs, device=device)\n",
    "    # 附加梯度\n",
    "    params = [W_xh, W_hh, b_h, W_hq, b_q]\n",
    "    for param in params:\n",
    "        param.requires_grad_(True)\n",
    "    return params"
   ]
  },
  {
   "cell_type": "code",
   "execution_count": 383,
   "id": "59313af5",
   "metadata": {},
   "outputs": [
    {
     "data": {
      "text/plain": [
       "(tensor([[0., 0., 0., 0., 0., 0., 0., 0., 0., 0.],\n",
       "         [0., 0., 0., 0., 0., 0., 0., 0., 0., 0.]]),)"
      ]
     },
     "execution_count": 383,
     "metadata": {},
     "output_type": "execute_result"
    }
   ],
   "source": [
    "def init_rnn_state(batch_size, num_hiddens, device=torch.device('cpu')):\n",
    "    return (torch.zeros((batch_size, num_hiddens), device=device), )\n",
    "\n",
    "# state is a tuple!!!\n",
    "state=init_rnn_state(2, 10, d2l.try_gpu())\n",
    "#print(type(state))\n",
    "state"
   ]
  },
  {
   "cell_type": "code",
   "execution_count": 384,
   "id": "f8cf2670",
   "metadata": {},
   "outputs": [],
   "source": [
    "def rnn(inputs, state, params):\n",
    "    W_xh, W_hh, b_h, W_hq, b_q = params\n",
    "    H, = state\n",
    "    outputs = []\n",
    "    \n",
    "    for X in inputs: # X.shape: (batch_size, vocab_size)\n",
    "        # H.shape: (batch_size, hidden_size)\n",
    "        H = torch.tanh(torch.matmul(H, W_hh) + torch.matmul(X, W_xh) + b_h)\n",
    "        # Y.shape: (batch_size, vocab_size)\n",
    "        Y = torch.matmul(H, W_hq) + b_q\n",
    "        outputs.append(Y)\n",
    "    #print(\"torch.cat(outputs, dim=0).shape: \", torch.cat(outputs, dim=0).shape)\n",
    "    # torch.cat(outputs, dim=0).shape: (sequence_size * batch_size, vocab_size)\n",
    "    return torch.cat(outputs, dim=0), (H,)"
   ]
  },
  {
   "cell_type": "code",
   "execution_count": 385,
   "id": "6fe3c9ff",
   "metadata": {},
   "outputs": [],
   "source": [
    "class MyRNN:\n",
    "    def __init__(self, vocab_size, num_hiddens, device,\n",
    "                 get_params, init_state, forward_fn):\n",
    "        self.vocab_size, self.num_hiddens = vocab_size, num_hiddens\n",
    "        self.params = get_params(vocab_size, num_hiddens, device)\n",
    "        self.init_state, self.forward_fn = init_state, forward_fn\n",
    "    \n",
    "    def __call__(self, X, state): # X.shape: (batch_size, sequence_size)\n",
    "        X = F.one_hot(X.T, self.vocab_size).type(torch.float32)\n",
    "        # X.shape: (sequence_size, batch_size, vocab_size)\n",
    "        return self.forward_fn(X, state, self.params)\n",
    "    \n",
    "    def begin_state(self, batch_size, device):\n",
    "        return self.init_state(batch_size, self.num_hiddens, device)"
   ]
  },
  {
   "cell_type": "code",
   "execution_count": 386,
   "id": "41d1e166",
   "metadata": {},
   "outputs": [
    {
     "data": {
      "text/plain": [
       "(torch.Size([10, 28]), 1, torch.Size([2, 512]))"
      ]
     },
     "execution_count": 386,
     "metadata": {},
     "output_type": "execute_result"
    }
   ],
   "source": [
    "num_hiddens = 512\n",
    "net = MyRNN(len(vocab), num_hiddens, d2l.try_gpu(), get_params,\n",
    "                      init_rnn_state, rnn)\n",
    "state = net.begin_state(X.shape[0], d2l.try_gpu())\n",
    "Y, new_state = net(X.to(d2l.try_gpu()), state)\n",
    "Y.shape, len(new_state), new_state[0].shape"
   ]
  },
  {
   "cell_type": "code",
   "execution_count": 387,
   "id": "ca301597",
   "metadata": {},
   "outputs": [],
   "source": [
    "def predict_rnn(prefix, num_preds, net, vocab, device):\n",
    "    state = net.begin_state(batch_size=1, device=device)\n",
    "    outputs = [vocab[prefix[0]]]\n",
    "    get_input = lambda : torch.tensor([outputs[-1]], device=device)\n",
    "    for y in prefix[1: ]:\n",
    "        # warm-up exist prefix for hidden state.\n",
    "        _, state = net(get_input(), state)\n",
    "        outputs.append(vocab[y])\n",
    "    for _ in range(num_preds):\n",
    "        y, state = net(get_input(), state)\n",
    "        outputs.append(y.argmax(dim=1).item())\n",
    "        #print(_, \" is \", y.argmax(dim=1).item())\n",
    "    return ''.join([vocab.idx_to_token[i] for i in outputs])"
   ]
  },
  {
   "cell_type": "code",
   "execution_count": 388,
   "id": "ce8b5355",
   "metadata": {},
   "outputs": [
    {
     "data": {
      "text/plain": [
       "'time traveller vpdrssssss'"
      ]
     },
     "execution_count": 388,
     "metadata": {},
     "output_type": "execute_result"
    }
   ],
   "source": [
    "predict_rnn('time traveller ', 10, net, vocab, d2l.try_gpu())"
   ]
  },
  {
   "cell_type": "code",
   "execution_count": 389,
   "id": "256839ba",
   "metadata": {},
   "outputs": [],
   "source": [
    "def grad_clipping(net, theta):\n",
    "    params=[]\n",
    "    if isinstance(net, nn.Module):\n",
    "        params=[p for p in net.parameters() if p.requires_grad]\n",
    "    else:\n",
    "        params=net.params\n",
    "\n",
    "    norm_sum = torch.sqrt(sum(torch.sum(p.grad ** 2) for p in params))\n",
    "    if norm_sum > theta:\n",
    "        for param in params:\n",
    "            param.grad /= norm_sum / theta"
   ]
  },
  {
   "cell_type": "code",
   "execution_count": 390,
   "id": "c41fd7b7",
   "metadata": {},
   "outputs": [],
   "source": [
    "def train_epoch_rnn(net, train_iter, loss, optimizer, device, use_random_iter):\n",
    "    state, start = None, time.time()\n",
    "    metric = d2l.Accumulator(2)\n",
    "    for X, y in train_iter:\n",
    "        if state is None or use_random_iter:\n",
    "            # if use_random_iter is True, which means for each batch\n",
    "            # of train data is not sequential, so we couldn't use the\n",
    "            # previous hidden state for next batch, we have to\n",
    "            # reinitialize it.\n",
    "            state=net.begin_state(batch_size=len(X), device=device)\n",
    "        else:\n",
    "            # it seems we should split this case into two kinds for\n",
    "            # GRU and LSTM. but why should it do this, I'm not clear\n",
    "            # yet.\n",
    "            if isinstance(net, nn.Module) and not isinstance(state, tuple):\n",
    "                # state对于nn.GRU是个张量\n",
    "                state.detach_()\n",
    "            else:\n",
    "                # state对于nn.LSTM或对于我们从零开始实现的模型是个张量\n",
    "                for s in state:\n",
    "                    s.detach_()\n",
    "        y = F.one_hot(y.T.reshape(-1), len(vocab))\n",
    "        X, y = X.to(device), y.to(device)\n",
    "        y_hat, state = net(X, state)\n",
    "        y_hat = F.softmax(y_hat, dim=1)\n",
    "        l = loss(y_hat, y.float()).mean()\n",
    "        if  isinstance(optimizer, torch.optim.Optimizer):\n",
    "            optimizer.zero_grad()\n",
    "            l.backward()\n",
    "            grad_clipping(net, 1)\n",
    "            optimizer.step()\n",
    "        else:\n",
    "            #print(\"before: \", net.params)\n",
    "            l.backward()\n",
    "            grad_clipping(net, 10)\n",
    "            # 因为已经调用了mean函数\n",
    "            optimizer(batch_size=1)\n",
    "            #print(\"after: \", net.params)\n",
    "        metric.add(l * y.numel(), y.numel())\n",
    "    return math.exp(metric[0] / metric[1]), metric[1] / (time.time() - start)"
   ]
  },
  {
   "cell_type": "code",
   "execution_count": 391,
   "id": "b0834a50",
   "metadata": {},
   "outputs": [],
   "source": [
    "def train_rnn(net, train_iter, vocab, lr, num_epochs, device,\n",
    "              use_random_iter=False):\n",
    "    loss=nn.CrossEntropyLoss()\n",
    "    if isinstance(net, nn.Module):\n",
    "        optimizer=torch.optim.SGD(net.parameters(), lr)\n",
    "    else:\n",
    "        optimizer = lambda batch_size: d2l.sgd(net.params, lr, batch_size)\n",
    "    \n",
    "    predict = lambda prefix: predict_rnn(prefix, 50, net, vocab, device)\n",
    "    \n",
    "    for epoch in range(num_epochs):\n",
    "        ppl, speed = train_epoch_rnn(net, train_iter, loss, optimizer, device, use_random_iter)\n",
    "        if (epoch + 1) % 10 == 0:\n",
    "            print(predict('time traveller'))\n",
    "    print(f'perplexity {ppl:.1f}, {speed:.1f} tokens/sec {str(device)}')\n",
    "    print(predict('time traveller'))\n",
    "    print(predict('traveller'))"
   ]
  },
  {
   "cell_type": "code",
   "execution_count": 392,
   "id": "086e3b14",
   "metadata": {},
   "outputs": [
    {
     "name": "stdout",
     "output_type": "stream",
     "text": [
      "time traveller                                                  \n",
      "time traveller                                                  \n",
      "time traveller                                                  \n",
      "perplexity 25.1, 1913769.4 tokens/sec cpu\n",
      "time traveller                                                  \n",
      "traveller                                                  \n"
     ]
    }
   ],
   "source": [
    "num_epochs, lr = 30, 1\n",
    "train_rnn(net, train_iter, vocab, lr, num_epochs, d2l.try_gpu())"
   ]
  },
  {
   "cell_type": "code",
   "execution_count": null,
   "id": "cfe17cb5",
   "metadata": {},
   "outputs": [],
   "source": []
  },
  {
   "cell_type": "code",
   "execution_count": null,
   "id": "3d8a28c4",
   "metadata": {},
   "outputs": [],
   "source": []
  }
 ],
 "metadata": {
  "kernelspec": {
   "display_name": "Python 3 (ipykernel)",
   "language": "python",
   "name": "python3"
  },
  "language_info": {
   "codemirror_mode": {
    "name": "ipython",
    "version": 3
   },
   "file_extension": ".py",
   "mimetype": "text/x-python",
   "name": "python",
   "nbconvert_exporter": "python",
   "pygments_lexer": "ipython3",
   "version": "3.9.19"
  }
 },
 "nbformat": 4,
 "nbformat_minor": 5
}
